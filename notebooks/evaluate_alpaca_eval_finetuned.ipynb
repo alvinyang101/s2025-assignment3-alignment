{
 "cells": [
  {
   "cell_type": "code",
   "execution_count": null,
   "id": "7c5caf85",
   "metadata": {},
   "outputs": [
    {
     "name": "stdout",
     "output_type": "stream",
     "text": [
      "The autoreload extension is already loaded. To reload it, use:\n",
      "  %reload_ext autoreload\n"
     ]
    },
    {
     "name": "stderr",
     "output_type": "stream",
     "text": [
      "Loading checkpoint shards: 100%|██████████| 3/3 [00:02<00:00,  1.37it/s]\n"
     ]
    },
    {
     "name": "stdout",
     "output_type": "stream",
     "text": [
      "Loaded 805 examples from AlpacaEval\n"
     ]
    },
    {
     "name": "stderr",
     "output_type": "stream",
     "text": [
      "Generating AlpacaEval predictions: 100%|██████████| 100/100 [13:12<00:00,  7.93s/it]"
     ]
    },
    {
     "name": "stdout",
     "output_type": "stream",
     "text": [
      "Saved AlpacaEval predictions to evaluation_results_finetuned/alpaca_eval_predictions.json\n",
      "\n",
      "Sample prediction:\n",
      "Instruction: What are the names of some famous actors that started their careers on Broadway?\n",
      "Output: I actors who Broadway include,,,,,,,,,,,,,,,,,,,,,,,,,,,,,,,,,,,,,,,,,,,,,,,,,,,,,,,,,,,,,,,,,,,,,,,...\n",
      "Generator: gwen2.5-0.5b-finetuned\n",
      "Dataset: helpful_base\n"
     ]
    },
    {
     "name": "stderr",
     "output_type": "stream",
     "text": [
      "\n"
     ]
    }
   ],
   "source": [
    "%load_ext autoreload\n",
    "%autoreload 2\n",
    "from transformers import AutoModelForCausalLM, AutoTokenizer\n",
    "import torch\n",
    "import json\n",
    "import os\n",
    "from tqdm import tqdm\n",
    "import re\n",
    "from typing import Any\n",
    "\n",
    "# Load Qwen model and tokenizer\n",
    "model_path = \"/home/alvin/Homework/s2025-assignment3-alignment/notebooks/qwen2.5-3B-instruct-finetuned/final_model\"\n",
    "tokenizer = AutoTokenizer.from_pretrained(model_path, trust_remote_code=True)\n",
    "model = AutoModelForCausalLM.from_pretrained(model_path, trust_remote_code=True, torch_dtype=torch.float16, device_map=\"auto\")\n",
    "\n",
    "# AlpacaEval test file path\n",
    "alpaca_eval_path = \"../data/alpaca_eval/alpaca_eval.jsonl\"\n",
    "\n",
    "# Format input prompts for AlpacaEval\n",
    "def format_alpaca_prompt(instruction):\n",
    "    prompt = (\n",
    "            \"Below is an instruction that describes a task. Write a response that appropriately completes the request.\"\n",
    "            f\"\\n\\n### Instruction:\\n{instruction}\\n\\n### Response:\\n\"\n",
    "        )\n",
    "    return prompt\n",
    "\n",
    "# Generate predictions\n",
    "# Generation hyperparameters. When generating responses, we’ll use greedy decoding (i.e., temperature of 0.0, with top-p 1.0)\n",
    "def generate_answer(prompt):\n",
    "    inputs = tokenizer(prompt, return_tensors=\"pt\").to(model.device)\n",
    "    with torch.no_grad():\n",
    "        output = model.generate(\n",
    "            **inputs, \n",
    "            max_new_tokens=200,\n",
    "            temperature=0.0,\n",
    "            top_p=1.0,\n",
    "            do_sample=False\n",
    "        )\n",
    "    decoded = tokenizer.decode(output[0], skip_special_tokens=True)\n",
    "    # Extract only the response part (everything after \"Response:\")\n",
    "    response_part = decoded.split(\"Response:\")[-1].strip()\n",
    "    return response_part\n",
    "\n",
    "# Load AlpacaEval data\n",
    "eval_set = []\n",
    "with open(alpaca_eval_path, 'r', encoding='utf-8') as f:\n",
    "    for line in f:\n",
    "        example = json.loads(line)\n",
    "        eval_set.append({\n",
    "            \"instruction\": example[\"instruction\"],\n",
    "            \"dataset\": example.get(\"dataset\", \"alpaca_eval\")\n",
    "        })\n",
    "\n",
    "print(f\"Loaded {len(eval_set)} examples from AlpacaEval\")\n",
    "\n",
    "model_id = \"gwen2.5-0.5b-finetuned\"\n",
    "\n",
    "# Generate predictions\n",
    "for example in tqdm(eval_set[:100], desc=\"Generating AlpacaEval predictions\"):\n",
    "    prompt = format_alpaca_prompt(example[\"instruction\"])\n",
    "    output = generate_answer(prompt)\n",
    "    example[\"output\"] = output\n",
    "    example[\"generator\"] = model_id\n",
    "\n",
    "# Save predictions\n",
    "os.makedirs(\"evaluation_results_finetuned\", exist_ok=True)\n",
    "output_file = \"evaluation_results_finetuned/alpaca_eval_predictions.json\"\n",
    "\n",
    "with open(output_file, \"w\") as fout:\n",
    "    json.dump(eval_set, fout, indent=2)\n",
    "\n",
    "print(f\"Saved AlpacaEval predictions to {output_file}\")\n",
    "\n",
    "# Print a sample prediction\n",
    "if eval_set:\n",
    "    sample = eval_set[0]\n",
    "    print(\"\\nSample prediction:\")\n",
    "    print(f\"Instruction: {sample['instruction']}\")\n",
    "    print(f\"Output: {sample['output'][:100]}...\")\n",
    "    print(f\"Generator: {sample['generator']}\")\n",
    "    print(f\"Dataset: {sample['dataset']}\")"
   ]
  }
 ],
 "metadata": {
  "kernelspec": {
   "display_name": "cs336_alignment",
   "language": "python",
   "name": "python3"
  },
  "language_info": {
   "codemirror_mode": {
    "name": "ipython",
    "version": 3
   },
   "file_extension": ".py",
   "mimetype": "text/x-python",
   "name": "python",
   "nbconvert_exporter": "python",
   "pygments_lexer": "ipython3",
   "version": "3.10.16"
  }
 },
 "nbformat": 4,
 "nbformat_minor": 5
}
