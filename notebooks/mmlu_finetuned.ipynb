{
 "cells": [
  {
   "cell_type": "code",
   "execution_count": null,
   "id": "f80b948f",
   "metadata": {},
   "outputs": [
    {
     "name": "stderr",
     "output_type": "stream",
     "text": [
      "/home/alvin/miniconda3/envs/cs336_alignment/lib/python3.10/site-packages/tqdm/auto.py:21: TqdmWarning: IProgress not found. Please update jupyter and ipywidgets. See https://ipywidgets.readthedocs.io/en/stable/user_install.html\n",
      "  from .autonotebook import tqdm as notebook_tqdm\n",
      "Sliding Window Attention is enabled but not implemented for `sdpa`; unexpected results may be encountered.\n",
      "Loading checkpoint shards: 100%|██████████| 3/3 [00:38<00:00, 12.86s/it]\n",
      "Evaluating high_school_government_and_politics_test: 100%|██████████| 193/193 [01:21<00:00,  2.36it/s]\n"
     ]
    },
    {
     "name": "stdout",
     "output_type": "stream",
     "text": [
      "Zero-shot accuracy on high_school_government_and_politics_test: 40.41%\n"
     ]
    },
    {
     "name": "stderr",
     "output_type": "stream",
     "text": [
      "Evaluating security_studies_test: 100%|██████████| 245/245 [01:38<00:00,  2.48it/s]\n"
     ]
    },
    {
     "name": "stdout",
     "output_type": "stream",
     "text": [
      "Zero-shot accuracy on security_studies_test: 22.45%\n"
     ]
    },
    {
     "name": "stderr",
     "output_type": "stream",
     "text": [
      "Evaluating global_facts_test: 100%|██████████| 100/100 [00:39<00:00,  2.51it/s]\n"
     ]
    },
    {
     "name": "stdout",
     "output_type": "stream",
     "text": [
      "Zero-shot accuracy on global_facts_test: 22.00%\n"
     ]
    },
    {
     "name": "stderr",
     "output_type": "stream",
     "text": [
      "Evaluating sociology_test: 100%|██████████| 201/201 [01:19<00:00,  2.52it/s]\n"
     ]
    },
    {
     "name": "stdout",
     "output_type": "stream",
     "text": [
      "Zero-shot accuracy on sociology_test: 36.32%\n"
     ]
    },
    {
     "name": "stderr",
     "output_type": "stream",
     "text": [
      "Evaluating high_school_european_history_test: 100%|██████████| 165/165 [01:06<00:00,  2.46it/s]\n"
     ]
    },
    {
     "name": "stdout",
     "output_type": "stream",
     "text": [
      "Zero-shot accuracy on high_school_european_history_test: 36.97%\n"
     ]
    },
    {
     "name": "stderr",
     "output_type": "stream",
     "text": [
      "Evaluating college_biology_test: 100%|██████████| 144/144 [00:58<00:00,  2.48it/s]\n"
     ]
    },
    {
     "name": "stdout",
     "output_type": "stream",
     "text": [
      "Zero-shot accuracy on college_biology_test: 36.81%\n"
     ]
    },
    {
     "name": "stderr",
     "output_type": "stream",
     "text": [
      "Evaluating high_school_psychology_test: 100%|██████████| 545/545 [03:37<00:00,  2.51it/s]\n"
     ]
    },
    {
     "name": "stdout",
     "output_type": "stream",
     "text": [
      "Zero-shot accuracy on high_school_psychology_test: 35.41%\n"
     ]
    },
    {
     "name": "stderr",
     "output_type": "stream",
     "text": [
      "Evaluating astronomy_test: 100%|██████████| 152/152 [01:00<00:00,  2.52it/s]\n"
     ]
    },
    {
     "name": "stdout",
     "output_type": "stream",
     "text": [
      "Zero-shot accuracy on astronomy_test: 25.66%\n"
     ]
    },
    {
     "name": "stderr",
     "output_type": "stream",
     "text": [
      "Evaluating electrical_engineering_test: 100%|██████████| 145/145 [00:57<00:00,  2.50it/s]\n"
     ]
    },
    {
     "name": "stdout",
     "output_type": "stream",
     "text": [
      "Zero-shot accuracy on electrical_engineering_test: 37.93%\n"
     ]
    },
    {
     "name": "stderr",
     "output_type": "stream",
     "text": [
      "Evaluating logical_fallacies_test: 100%|██████████| 163/163 [01:06<00:00,  2.45it/s]"
     ]
    },
    {
     "name": "stdout",
     "output_type": "stream",
     "text": [
      "Zero-shot accuracy on logical_fallacies_test: 33.13%\n"
     ]
    },
    {
     "name": "stderr",
     "output_type": "stream",
     "text": [
      "\n"
     ]
    }
   ],
   "source": [
    "%load_ext autoreload\n",
    "%autoreload 2\n",
    "\n",
    "from transformers import AutoModelForCausalLM, AutoTokenizer\n",
    "import torch\n",
    "import json\n",
    "import os\n",
    "from tqdm import tqdm\n",
    "import glob\n",
    "import csv\n",
    "from typing import Any\n",
    "\n",
    "from cs336_alignment.zeroshot import parse_mmlu_response\n",
    "\n",
    "# Load Qwen model and tokenizer\n",
    "model_path = \"/home/alvin/Homework/s2025-assignment3-alignment/notebooks/qwen2.5-3B-instruct-finetuned/final_model\"\n",
    "tokenizer = AutoTokenizer.from_pretrained(model_path, trust_remote_code=True)\n",
    "model = AutoModelForCausalLM.from_pretrained(model_path, trust_remote_code=True, torch_dtype=torch.float16, device_map=\"auto\")\n",
    "\n",
    "# MMLU test folder\n",
    "mmlu_test_dir = \"../data/mmlu/test\"\n",
    "csv_files = glob.glob(os.path.join(mmlu_test_dir, \"*.csv\"))\n",
    "\n",
    "# Format input prompts\n",
    "def format_prompt(example):\n",
    "    question = example[\"question\"]\n",
    "    for i, choice in enumerate(example['choices']):\n",
    "        question += f\"({chr(65+i)}) {choice}  \"\n",
    "    prompt = (\n",
    "            \"Below is an instruction that describes a task. Write a response that appropriately completes the request.\"\n",
    "            f\"\\n\\n### Instruction:\\n{question}\\n\\n### Response:\\n\"\n",
    "        )\n",
    "    prompt += \"Answer:\"\n",
    "    return prompt\n",
    "\n",
    "# Generate predictions\n",
    "def generate_answer(prompt):\n",
    "    inputs = tokenizer(prompt, return_tensors=\"pt\").to(model.device)\n",
    "    with torch.no_grad():\n",
    "        output = model.generate(**inputs, max_new_tokens=10)\n",
    "    decoded = tokenizer.decode(output[0], skip_special_tokens=True)\n",
    "    return decoded\n",
    "\n",
    "# Evaluate each subject\n",
    "os.makedirs(\"mmlu_evaluation_results_finetuned\", exist_ok=True)\n",
    "\n",
    "for file_path in csv_files[:10]:\n",
    "    category = os.path.splitext(os.path.basename(file_path))[0]\n",
    "    examples = []\n",
    "\n",
    "    with open(file_path, newline='', encoding='utf-8') as csvfile:\n",
    "        reader = csv.reader(csvfile)\n",
    "        for row in reader:\n",
    "            examples.append({\n",
    "                \"question\": row[0],\n",
    "                \"choices\": row[1:5],\n",
    "                \"answer\": row[5].strip().upper(),\n",
    "                \"subject\": category\n",
    "            })\n",
    "\n",
    "    results = []\n",
    "    correct = 0\n",
    "\n",
    "    for example in tqdm(examples, desc=f\"Evaluating {category}\"):\n",
    "        prompt = format_prompt(example)\n",
    "        # break\n",
    "        raw_output = generate_answer(prompt)\n",
    "        pred = parse_mmlu_response(example, raw_output)\n",
    "        gt = example['answer']\n",
    "        results.append({\n",
    "            \"question\": example['question'],\n",
    "            \"choices\": example['choices'],\n",
    "            \"ground_truth\": gt,\n",
    "            \"prediction\": pred,\n",
    "            \"raw_output\": raw_output\n",
    "        })\n",
    "        if pred == gt:\n",
    "            correct += 1\n",
    "\n",
    "    accuracy = correct / len(results)\n",
    "    print(f\"Zero-shot accuracy on {category}: {accuracy:.2%}\")\n",
    "    with open(f\"mmlu_evaluation_results_finetuned/qwen_mmlu_{category}.json\", \"w\") as f:\n",
    "        json.dump({\"accuracy\": accuracy, \"results\": results}, f, indent=2)"
   ]
  },
  {
   "cell_type": "code",
   "execution_count": 3,
   "id": "cf9fe029",
   "metadata": {},
   "outputs": [
    {
     "name": "stdout",
     "output_type": "stream",
     "text": [
      "Overall accuracy across all subjects: 33.27%\n",
      "Total predictions: 2053\n",
      "Total 'None' predictions: 0\n"
     ]
    }
   ],
   "source": [
    "import glob\n",
    "import csv\n",
    "import json\n",
    "import os\n",
    "\n",
    "def summarize_evaluation_results(results_dir=\"mmlu_evaluation_results_finetuned\"):\n",
    "    total_correct = 0\n",
    "    total_questions = 0\n",
    "    total_none_outputs = 0\n",
    "\n",
    "    result_files = glob.glob(os.path.join(results_dir, \"qwen_mmlu_*.json\"))\n",
    "    \n",
    "    for file_path in result_files:\n",
    "        with open(file_path, \"r\") as f:\n",
    "            data = json.load(f)\n",
    "            results = data[\"results\"]\n",
    "            for result in results:\n",
    "                pred = result[\"prediction\"]\n",
    "                gt = result[\"ground_truth\"]\n",
    "                if pred == \"None\" or pred == \"none\" or pred == None: \n",
    "                    total_none_outputs += 1\n",
    "                if pred == gt:\n",
    "                    total_correct += 1\n",
    "                total_questions += 1\n",
    "\n",
    "    overall_accuracy = total_correct / total_questions if total_questions > 0 else 0.0\n",
    "    print(f\"Overall accuracy across all subjects: {overall_accuracy:.2%}\")\n",
    "    print(f\"Total predictions: {total_questions}\")\n",
    "    print(f\"Total 'None' predictions: {total_none_outputs}\")\n",
    "summarize_evaluation_results()"
   ]
  },
  {
   "cell_type": "code",
   "execution_count": null,
   "id": "0025438c",
   "metadata": {},
   "outputs": [],
   "source": []
  }
 ],
 "metadata": {
  "kernelspec": {
   "display_name": "cs336_alignment",
   "language": "python",
   "name": "python3"
  },
  "language_info": {
   "codemirror_mode": {
    "name": "ipython",
    "version": 3
   },
   "file_extension": ".py",
   "mimetype": "text/x-python",
   "name": "python",
   "nbconvert_exporter": "python",
   "pygments_lexer": "ipython3",
   "version": "3.10.16"
  }
 },
 "nbformat": 4,
 "nbformat_minor": 5
}
